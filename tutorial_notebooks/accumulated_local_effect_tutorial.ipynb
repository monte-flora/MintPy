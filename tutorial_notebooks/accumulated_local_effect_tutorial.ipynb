{
 "cells": [
  {
   "cell_type": "code",
   "execution_count": 1,
   "metadata": {},
   "outputs": [],
   "source": [
    "# Import modules \n",
    "import sys\n",
    "from os import getcwd\n",
    "from os.path import dirname, join\n",
    "path = dirname(getcwd())\n",
    "sys.path.append(path)"
   ]
  },
  {
   "cell_type": "code",
   "execution_count": 2,
   "metadata": {},
   "outputs": [
    {
     "data": {
      "text/plain": [
       "<mintpy.main.interpret_toolkit.InterpretToolkit at 0x7f8838492d30>"
      ]
     },
     "execution_count": 2,
     "metadata": {},
     "output_type": "execute_result"
    }
   ],
   "source": [
    "import mintpy\n",
    "mintpy.InterpretToolkit()"
   ]
  },
  {
   "cell_type": "code",
   "execution_count": null,
   "metadata": {},
   "outputs": [],
   "source": [
    "from MintPy.utils import (combine_top_features, \n",
    "                          load_pickle)\n",
    "import plotting_config\n",
    "import pandas as pd\n",
    "import numpy as np\n",
    "from joblib import load"
   ]
  },
  {
   "cell_type": "markdown",
   "metadata": {},
   "source": [
    "# Load in Models and Data"
   ]
  },
  {
   "cell_type": "code",
   "execution_count": null,
   "metadata": {},
   "outputs": [],
   "source": [
    "# Load the model objects. In this case, we are using two popular scikit-learn tree-based methods.\n",
    "model_filepath = join(getcwd(), 'models')\n",
    "model_fname = ['RandomForestClassifier.pkl',  'GradientBoostingClassifier.pkl']\n",
    "model_names = ['Random Forest', 'Gradient Boosting']\n",
    "model_objs = [load(join(model_filepath, fname)) for fname in model_fname]\n",
    "\n",
    "#Import the training dataset\n",
    "data_filename = join(getcwd(), 'data', 'data_for_mintpy.csv')\n",
    "\n",
    "# Load the examples the models were trained on.\n",
    "TARGET_COLUMN = 'cat_rt'\n",
    "data  = pd.read_csv(data_filename)\n",
    "\n",
    "examples = data[plotting_config.cols_to_use]\n",
    "targets = data[TARGET_COLUMN].values"
   ]
  },
  {
   "cell_type": "markdown",
   "metadata": {},
   "source": [
    "# Initializing InterpretToolkit\n",
    "\n",
    "To initialize `InterpretToolkit`, requires a model object (e.g., a trained sci-kit learn model object) or a list of model objects and examples and targets to evalute the model(s) on. `examples` and `targets` can be `pandas.DataFrame` or `numpy.array`, but if you are using arrays, then you must provide the feature names. "
   ]
  },
  {
   "cell_type": "code",
   "execution_count": null,
   "metadata": {},
   "outputs": [],
   "source": [
    "myInterpreter = InterpretToolkit(model=model_objs, \n",
    "                                 model_names=model_names,\n",
    "                                 examples=examples, \n",
    "                                 targets=targets,\n",
    "                                )"
   ]
  },
  {
   "cell_type": "code",
   "execution_count": null,
   "metadata": {},
   "outputs": [],
   "source": [
    "results_filepath = join(getcwd(), 'results')\n",
    "\n",
    "# Load the permutation important results from the saved pickle file\n",
    "results = load_pickle(fnames=join(results_filepath,'multipass_importance.pkl'))\n",
    "\n",
    "# Set the permutation importance results as class attribute (for plotting purposes)\n",
    "myInterpreter.set_results(results=results, \n",
    "                          option='permutation_importance'\n",
    "                         )\n",
    "\n",
    "important_vars = myInterpreter.get_important_vars(results, multipass=True)\n",
    "important_vars = combine_top_features(important_vars, nvars=7)\n",
    "print(important_vars)"
   ]
  },
  {
   "cell_type": "markdown",
   "metadata": {},
   "source": [
    "# Accumulated Local Effect Plots\n",
    "\n",
    "Once we known what features are important, we explore their functional relationship with the target variable. MintPy has a built-in function to take the important features from multiple model turn it into a single list with any duplicate features removed. "
   ]
  },
  {
   "cell_type": "code",
   "execution_count": null,
   "metadata": {},
   "outputs": [],
   "source": [
    "important_vars = important_vars[:3]\n",
    "\n",
    "results = myInterpreter.calc_ale(features=important_vars, \n",
    "                                 nbootstrap=1, \n",
    "                                 subsample=0.01, \n",
    "                                 njobs=len(important_vars)*len(model_objs), \n",
    "                                 nbins=15\n",
    "                                )\n",
    "fig, axes = myInterpreter.plot_ale(feature_units=plotting_config.feature_units,\n",
    "                                   readable_feature_names=plotting_config.readable_feature_names\n",
    "                                  )"
   ]
  },
  {
   "cell_type": "code",
   "execution_count": null,
   "metadata": {},
   "outputs": [],
   "source": []
  }
 ],
 "metadata": {
  "kernelspec": {
   "display_name": "Python 3",
   "language": "python",
   "name": "python3"
  },
  "language_info": {
   "codemirror_mode": {
    "name": "ipython",
    "version": 3
   },
   "file_extension": ".py",
   "mimetype": "text/x-python",
   "name": "python",
   "nbconvert_exporter": "python",
   "pygments_lexer": "ipython3",
   "version": "3.6.7"
  }
 },
 "nbformat": 4,
 "nbformat_minor": 4
}
