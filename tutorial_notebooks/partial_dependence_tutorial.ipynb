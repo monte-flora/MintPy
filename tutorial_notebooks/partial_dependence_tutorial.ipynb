{
 "cells": [
  {
   "cell_type": "markdown",
   "metadata": {},
   "source": [
    "# Partial Dependence  Documentation\n",
    "\n",
    "This notebook is designed to demonstrate how to use `mintpy` to compute 1D or 2D partial dependence and plot the results. For more information on dataset and initializing `InterpretToolkit`, see the permutatation importance notebook."
   ]
  },
  {
   "cell_type": "code",
   "execution_count": 1,
   "metadata": {},
   "outputs": [],
   "source": [
    "import sys, os \n",
    "current_dir = os.getcwd()\n",
    "path = os.path.dirname(current_dir)\n",
    "sys.path.append(path)\n",
    "import numpy as np\n",
    "import pandas as pd\n",
    "from joblib import load \n",
    "\n",
    "import mintpy\n",
    "import plotting_config "
   ]
  },
  {
   "cell_type": "markdown",
   "metadata": {},
   "source": [
    "## Loading the training data and pre-fit models "
   ]
  },
  {
   "cell_type": "code",
   "execution_count": 2,
   "metadata": {},
   "outputs": [
    {
     "name": "stdout",
     "output_type": "stream",
     "text": [
      "Examples Shape : (100000, 30)\n",
      "Target Skew : 39.173%\n"
     ]
    }
   ],
   "source": [
    "# Load the model objects. In this case, we are using two popular scikit-learn tree-based methods.\n",
    "model_filepath = os.path.join(current_dir, 'models')\n",
    "model_fname = ['RandomForestClassifier.pkl',  'GradientBoostingClassifier.pkl']\n",
    "model_names = ['Random Forest', 'Gradient Boosting']\n",
    "model_objs = [load(os.path.join(model_filepath, fname)) for fname in model_fname]\n",
    "\n",
    "#Import the training dataset\n",
    "data_filename = os.path.join(current_dir, 'data', 'data_for_mintpy.csv')\n",
    "\n",
    "# Load the examples the models were trained on.\n",
    "TARGET_COLUMN = 'cat_rt'\n",
    "data  = pd.read_csv(data_filename)\n",
    "\n",
    "examples = data[plotting_config.cols_to_use]\n",
    "targets = data[TARGET_COLUMN].values\n",
    "\n",
    "print(f'Examples Shape : {examples.shape}')\n",
    "print(f'Target Skew : {targets.mean()*100}%')"
   ]
  },
  {
   "cell_type": "markdown",
   "metadata": {},
   "source": [
    "## Loading feature rankings for a list of features to explore with PD"
   ]
  },
  {
   "cell_type": "code",
   "execution_count": 3,
   "metadata": {},
   "outputs": [
    {
     "name": "stdout",
     "output_type": "stream",
     "text": [
      "{'Gradient Boosting': <mintpy.main.PermutationImportance.result.ImportanceResult object at 0x7fe1b8cf7be0>, 'Random Forest': <mintpy.main.PermutationImportance.result.ImportanceResult object at 0x7fe1e89ae828>}\n"
     ]
    }
   ],
   "source": [
    "results_filepath = os.path.join(current_dir, 'results')\n",
    "myInterpreter = mintpy.InterpretToolkit(model=model_objs,\n",
    "                                 model_names=model_names,\n",
    "                                 examples=examples,\n",
    "                                 targets=targets,\n",
    "                                )\n",
    "\n",
    "# Load the permutation important results from the saved pickle file\n",
    "results = myInterpreter.load_results(fnames=os.path.join(results_filepath,'multipass_importance.pkl'), \n",
    "                                     option='permutation_importance',\n",
    "                                    model_names=model_names)\n",
    "\n",
    "print(results)\n",
    "important_vars = myInterpreter.get_important_vars(results, multipass=True, nvars=7)"
   ]
  },
  {
   "cell_type": "markdown",
   "metadata": {},
   "source": [
    "# Partial Dependence Plots\n",
    "\n",
    "Once we known what features are important, we explore their functional relationship with the target variable. MintPy has a built-in function to take the important features from multiple model turn it into a single list with any duplicate features removed. "
   ]
  },
  {
   "cell_type": "code",
   "execution_count": 4,
   "metadata": {},
   "outputs": [
    {
     "name": "stdout",
     "output_type": "stream",
     "text": [
      "Using 6 processors...\n"
     ]
    },
    {
     "ename": "TypeError",
     "evalue": "_plot_interpret_curves() got multiple values for argument 'readable_feature_names'",
     "output_type": "error",
     "traceback": [
      "\u001b[0;31m---------------------------------------------------------------------------\u001b[0m",
      "\u001b[0;31mTypeError\u001b[0m                                 Traceback (most recent call last)",
      "\u001b[0;32m<ipython-input-4-c858e756f48c>\u001b[0m in \u001b[0;36m<module>\u001b[0;34m()\u001b[0m\n\u001b[1;32m      2\u001b[0m \u001b[0;34m\u001b[0m\u001b[0m\n\u001b[1;32m      3\u001b[0m fig, axes = myInterpreter.plot_pd(feature_units=plotting_config.feature_units,\n\u001b[0;32m----> 4\u001b[0;31m                                  readable_feature_names=plotting_config.readable_feature_names)\n\u001b[0m",
      "\u001b[0;32m/Users/monte.flora/mintpy/mintpy/main/interpret_toolkit.py\u001b[0m in \u001b[0;36mplot_pd\u001b[0;34m(self, readable_feature_names, feature_units, **kwargs)\u001b[0m\n\u001b[1;32m    232\u001b[0m                                \u001b[0mreadable_feature_names\u001b[0m\u001b[0;34m=\u001b[0m\u001b[0mreadable_feature_names\u001b[0m\u001b[0;34m,\u001b[0m\u001b[0;34m\u001b[0m\u001b[0;34m\u001b[0m\u001b[0m\n\u001b[1;32m    233\u001b[0m                                \u001b[0mfeature_units\u001b[0m\u001b[0;34m=\u001b[0m\u001b[0mfeature_units\u001b[0m\u001b[0;34m,\u001b[0m\u001b[0;34m\u001b[0m\u001b[0;34m\u001b[0m\u001b[0m\n\u001b[0;32m--> 234\u001b[0;31m                                **kwargs)\n\u001b[0m\u001b[1;32m    235\u001b[0m \u001b[0;34m\u001b[0m\u001b[0m\n\u001b[1;32m    236\u001b[0m \u001b[0;34m\u001b[0m\u001b[0m\n",
      "\u001b[0;31mTypeError\u001b[0m: _plot_interpret_curves() got multiple values for argument 'readable_feature_names'"
     ]
    }
   ],
   "source": [
    "results = myInterpreter.calc_pd(features=important_vars, nbootstrap=1, subsample=0.1, njobs=6)\n",
    "\n",
    "fig, axes = myInterpreter.plot_pd(feature_units=plotting_config.feature_units,\n",
    "                                 readable_feature_names=plotting_config.readable_feature_names)"
   ]
  },
  {
   "cell_type": "code",
   "execution_count": null,
   "metadata": {},
   "outputs": [],
   "source": [
    "h_value = myInterpreter.calc_feature_interactions(model_name='Random Forest', \n",
    "                                                  features = ('dllwave_flux', 'dwpt2m'), \n",
    "                                                  nbins=15\n",
    "                                                 )"
   ]
  },
  {
   "cell_type": "code",
   "execution_count": null,
   "metadata": {},
   "outputs": [],
   "source": [
    "print(h_value)"
   ]
  }
 ],
 "metadata": {
  "kernelspec": {
   "display_name": "Python 3",
   "language": "python",
   "name": "python3"
  },
  "language_info": {
   "codemirror_mode": {
    "name": "ipython",
    "version": 3
   },
   "file_extension": ".py",
   "mimetype": "text/x-python",
   "name": "python",
   "nbconvert_exporter": "python",
   "pygments_lexer": "ipython3",
   "version": "3.6.7"
  }
 },
 "nbformat": 4,
 "nbformat_minor": 4
}
