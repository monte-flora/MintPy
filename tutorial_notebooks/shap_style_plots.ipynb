{
 "cells": [
  {
   "cell_type": "markdown",
   "metadata": {},
   "source": [
    "# SHAP-Style Plots  Documentation\n",
    "\n",
    "This notebook is designed to demonstrate how to use `pymint` to plot [SHAP-style](https://github.com/slundberg/shap) plots within MintPy. For more information on dataset and initializing `InterpretToolkit`, see the permutatation importance notebook."
   ]
  },
  {
   "cell_type": "code",
   "execution_count": 1,
   "metadata": {},
   "outputs": [],
   "source": [
    "import sys, os \n",
    "current_dir = os.getcwd()\n",
    "path = os.path.dirname(current_dir)\n",
    "sys.path.append(path)\n",
    "import numpy as np\n",
    "import xarray as xr\n",
    "import pandas as pd\n",
    "import shap"
   ]
  },
  {
   "cell_type": "code",
   "execution_count": 2,
   "metadata": {},
   "outputs": [],
   "source": [
    "import pymint\n",
    "import plotting_config "
   ]
  },
  {
   "cell_type": "markdown",
   "metadata": {},
   "source": [
    "### Loading the training data and pre-fit models \n"
   ]
  },
  {
   "cell_type": "code",
   "execution_count": 3,
   "metadata": {},
   "outputs": [],
   "source": [
    "estimators = pymint.load_models()\n",
    "X,y = pymint.load_data()"
   ]
  },
  {
   "cell_type": "code",
   "execution_count": 4,
   "metadata": {},
   "outputs": [],
   "source": [
    "X_subset = shap.sample(X, 200, random_state=22)\n",
    "explainer = pymint.InterpretToolkit(estimators,X=X_subset,)"
   ]
  },
  {
   "cell_type": "markdown",
   "metadata": {},
   "source": [
    "### Compute the Shap Values "
   ]
  },
  {
   "cell_type": "code",
   "execution_count": null,
   "metadata": {},
   "outputs": [],
   "source": [
    "background_dataset = shap.sample(X, 100)\n",
    "results = explainer.shap(background_dataset=background_dataset)"
   ]
  },
  {
   "cell_type": "code",
   "execution_count": null,
   "metadata": {},
   "outputs": [],
   "source": [
    "shap_values, bias = results['Random Forest']"
   ]
  },
  {
   "cell_type": "markdown",
   "metadata": {},
   "source": [
    "## Summary Plot\n",
    "\n",
    "Once we compute the SHAP values for a large number of examples, we can evaluate different patterns. For example, in the plot below, SHAP values are ranked by their absolute sum. Additionally, the SHAP values are color-coded by their normalized magnitude where red indicates a higher predictor value while blue indicates a lower predictor value. In this case, surface temperature ($T_{sfc}$) had the largest absolute sum and lower values increases the probability of freezing road surface temperatures. \n",
    "\n"
   ]
  },
  {
   "cell_type": "code",
   "execution_count": null,
   "metadata": {},
   "outputs": [],
   "source": [
    "explainer.plot_shap(\n",
    "                    plot_type = 'summary',\n",
    "                    shap_values=shap_values,\n",
    "                    display_feature_names=plotting_config.display_feature_names,\n",
    ")                           "
   ]
  },
  {
   "cell_type": "markdown",
   "metadata": {},
   "source": [
    "Instead of this plot, we can evaluate the SHAP-based ranking with the bar-style plot used in PyMint. "
   ]
  },
  {
   "cell_type": "code",
   "execution_count": null,
   "metadata": {},
   "outputs": [],
   "source": [
    "def shap_values_to_importance(shap_values, estimator_name, feature_names, method='sum'):\n",
    "    \"\"\"\n",
    "    Convert SHAP values into feature importance.\n",
    "    \"\"\"\n",
    "    if method == 'std':\n",
    "        # Compute the std(SHAP) \n",
    "        shap_rank= np.std(shap_values, axis=0)\n",
    "    elif method == 'sum':\n",
    "        #Compute sum of abs values\n",
    "        shap_rank = np.sum(np.absolute(shap_values), axis=0)\n",
    "\n",
    "    ranked_indices = np.argsort(shap_rank)[::-1]\n",
    "    scores_ranked = np.array(shap_rank[ranked_indices])\n",
    "    features_ranked = np.array(feature_names)[ranked_indices]\n",
    "\n",
    "    data={}\n",
    "    data[f\"shap_rankings__{estimator_name}\"] = (\n",
    "                    [f\"n_vars_shap\"],\n",
    "                    features_ranked,\n",
    "                )\n",
    "    data[f\"shap_scores__{estimator_name}\"] = (\n",
    "                    [f\"n_vars_shap\", \"n_bootstrap\"],\n",
    "                    scores_ranked.reshape(len(scores_ranked),1),\n",
    "    )\n",
    "    data = xr.Dataset(data)\n",
    "\n",
    "    return data\n",
    "\n",
    "data = shap_values_to_importance(shap_values, estimator_name='Random Forest', feature_names=X.columns)\n",
    "explainer.plot_importance(data=data, \n",
    "                          estimator_names = 'Random Forest', \n",
    "                          method='shap')"
   ]
  },
  {
   "cell_type": "markdown",
   "metadata": {},
   "source": [
    "### Dependence Plot\n",
    "\n",
    "SHAP values can also be displayed similar to ALE/PD curve where the values are presented as a function of the predictor value. For this plots, we can also include `histdata`, which is a combination of `X` and `y`. For classification problems, the user can provide the name of the target variable and the background histogram will be color-coded for the different classes. Lastly, each dot is color coded by the value of the feature that approximately interacts with the feature being plotted. \n"
   ]
  },
  {
   "cell_type": "code",
   "execution_count": null,
   "metadata": {},
   "outputs": [],
   "source": [
    "X.columns"
   ]
  },
  {
   "cell_type": "code",
   "execution_count": null,
   "metadata": {},
   "outputs": [],
   "source": [
    "features = ['sat_irbt', 'd_rad_d', 'temp2m', 'hrrr_dT']\n",
    "\n",
    "histdata=X.copy()\n",
    "histdata['target'] = y\n",
    "\n",
    "explainer.plot_shap(features=features,\n",
    "                    plot_type = 'dependence',\n",
    "                    shap_values=shap_values/100,\n",
    "                    display_feature_names=plotting_config.display_feature_names,\n",
    "                    display_units = plotting_config.display_units,\n",
    "                    histdata=histdata,\n",
    "                    target='target',\n",
    "                    interaction_index='auto'\n",
    ")"
   ]
  },
  {
   "cell_type": "markdown",
   "metadata": {},
   "source": [
    "## No color-coding of dots \n",
    "\n",
    "Set `interaction_index=None` to remove the color-coding. "
   ]
  },
  {
   "cell_type": "code",
   "execution_count": null,
   "metadata": {},
   "outputs": [],
   "source": [
    "features = ['tmp2m_hrs_bl_frez', 'sat_irbt', 'sfcT_hrs_ab_frez', 'tmp2m_hrs_ab_frez', 'd_rad_d', 'temp2m']\n",
    "\n",
    "explainer.plot_shap(features=features,\n",
    "                    plot_type = 'dependence',\n",
    "                    shap_values=shap_values,\n",
    "                    display_feature_names=plotting_config.display_feature_names,\n",
    "                    display_units = plotting_config.display_units,\n",
    "                    histdata=histdata,\n",
    "                    interaction_index=None,\n",
    ")"
   ]
  },
  {
   "cell_type": "markdown",
   "metadata": {},
   "source": [
    "## SHAP for Regression"
   ]
  },
  {
   "cell_type": "code",
   "execution_count": null,
   "metadata": {},
   "outputs": [],
   "source": [
    "from sklearn.datasets import fetch_california_housing\n",
    "from sklearn.ensemble import RandomForestRegressor"
   ]
  },
  {
   "cell_type": "code",
   "execution_count": null,
   "metadata": {},
   "outputs": [],
   "source": [
    "data = fetch_california_housing()\n",
    "X = data['data']\n",
    "y = data['target']\n",
    "feature_names = data['feature_names']\n",
    "model= RandomForestRegressor()\n",
    "model.fit(X,y)"
   ]
  },
  {
   "cell_type": "code",
   "execution_count": null,
   "metadata": {},
   "outputs": [],
   "source": [
    "X_subset = shap.sample(X, 100, random_state=42)\n",
    "explainer = pymint.InterpretToolkit(('Random Forest', model),X=X_subset, feature_names=feature_names)"
   ]
  },
  {
   "cell_type": "code",
   "execution_count": null,
   "metadata": {},
   "outputs": [],
   "source": [
    "background_dataset = shap.sample(X, 100)\n",
    "results = explainer.shap(background_dataset=background_dataset)\n",
    "shap_values, bias = results['Random Forest']\n",
    "explainer.plot_shap(\n",
    "                    plot_type = 'summary',\n",
    "                    shap_values=shap_values,\n",
    "                    display_feature_names=plotting_config.display_feature_names,\n",
    ")                           "
   ]
  },
  {
   "cell_type": "code",
   "execution_count": null,
   "metadata": {},
   "outputs": [],
   "source": []
  }
 ],
 "metadata": {
  "kernelspec": {
   "display_name": "Python 3",
   "language": "python",
   "name": "python3"
  },
  "language_info": {
   "codemirror_mode": {
    "name": "ipython",
    "version": 3
   },
   "file_extension": ".py",
   "mimetype": "text/x-python",
   "name": "python",
   "nbconvert_exporter": "python",
   "pygments_lexer": "ipython3",
   "version": "3.6.7"
  }
 },
 "nbformat": 4,
 "nbformat_minor": 4
}
