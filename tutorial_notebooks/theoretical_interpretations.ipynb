{
 "cells": [
  {
   "cell_type": "markdown",
   "metadata": {},
   "source": [
    "## Developing A Theoretical Understanding on the Limitations of ML interpretation methods"
   ]
  },
  {
   "cell_type": "markdown",
   "metadata": {},
   "source": [
    "### Linear Regression\n",
    "\n",
    "Let's start with a simple 10-variable regression problem. \n",
    "\n",
    "\\begin{equation}\n",
    "y = 2.0x_1 + 1.5x_2 + 1.2x_3 + 0.5x_4 + 0.2x_5 + x_6 + x_7 + x_8 + x_9 + x_{10} + \\epsilon \n",
    "\\end{equation}\n",
    "\n",
    "where $x_i = \\mathcal{U}(-1,1)$ and $\\epsilon=\\mathcal{N}(\\mu=0, \\sigma=0.2)$. In the special case where $\\epsilon = 0$ (or at least sufficiently small), the predictor ranking is based on the magnitude of the coefficients.  "
   ]
  },
  {
   "cell_type": "code",
   "execution_count": null,
   "metadata": {},
   "outputs": [],
   "source": [
    "n_examples = 2000\n",
    "n_vars = 10 \n",
    "X = [np.random.uniform(-1,1, size=size) for _ in range(n_vars)"
   ]
  }
 ],
 "metadata": {
  "kernelspec": {
   "display_name": "Python 3",
   "language": "python",
   "name": "python3"
  },
  "language_info": {
   "codemirror_mode": {
    "name": "ipython",
    "version": 3
   },
   "file_extension": ".py",
   "mimetype": "text/x-python",
   "name": "python",
   "nbconvert_exporter": "python",
   "pygments_lexer": "ipython3",
   "version": "3.6.7"
  }
 },
 "nbformat": 4,
 "nbformat_minor": 4
}
