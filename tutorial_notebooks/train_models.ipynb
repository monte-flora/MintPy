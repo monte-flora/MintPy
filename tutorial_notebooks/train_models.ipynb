{
 "cells": [
  {
   "cell_type": "code",
   "execution_count": 1,
   "metadata": {},
   "outputs": [],
   "source": [
    "# Import modules \n",
    "import sys\n",
    "from os import getcwd\n",
    "from os.path import dirname, join\n",
    "path = dirname(dirname(getcwd()))\n",
    "sys.path.append(path)"
   ]
  },
  {
   "cell_type": "code",
   "execution_count": 2,
   "metadata": {},
   "outputs": [],
   "source": [
    "from sklearn.ensemble import RandomForestClassifier, GradientBoostingClassifier\n",
    "from sklearn.linear_model import LogisticRegression\n",
    "import pandas as pd\n",
    "import plotting_config\n",
    "import joblib"
   ]
  },
  {
   "cell_type": "code",
   "execution_count": 3,
   "metadata": {},
   "outputs": [],
   "source": [
    "#Import the training dataset\n",
    "filename = join(getcwd(), 'data', 'data_for_mintpy.csv')\n",
    "\n",
    "# Load the examples the models were trained on.\n",
    "TARGET_COLUMN = 'cat_rt'\n",
    "data  = pd.read_csv(filename)\n",
    "\n",
    "examples = data[plotting_config.cols_to_use]\n",
    "targets = data[TARGET_COLUMN].values"
   ]
  },
  {
   "cell_type": "code",
   "execution_count": 4,
   "metadata": {},
   "outputs": [
    {
     "name": "stdout",
     "output_type": "stream",
     "text": [
      "/Users/monte.flora/MintPy/test/models\n"
     ]
    },
    {
     "name": "stderr",
     "output_type": "stream",
     "text": [
      "/Users/monte.flora/opt/miniconda3/envs/deep/lib/python3.6/site-packages/sklearn/linear_model/_logistic.py:764: ConvergenceWarning: lbfgs failed to converge (status=1):\n",
      "STOP: TOTAL NO. of ITERATIONS REACHED LIMIT.\n",
      "\n",
      "Increase the number of iterations (max_iter) or scale the data as shown in:\n",
      "    https://scikit-learn.org/stable/modules/preprocessing.html\n",
      "Please also refer to the documentation for alternative solver options:\n",
      "    https://scikit-learn.org/stable/modules/linear_model.html#logistic-regression\n",
      "  extra_warning_msg=_LOGISTIC_SOLVER_CONVERGENCE_MSG)\n"
     ]
    }
   ],
   "source": [
    "# Fit the models \n",
    "rf = RandomForestClassifier(n_estimators=200, min_samples_leaf=5, n_jobs=5)\n",
    "gbf = GradientBoostingClassifier()\n",
    "lr = LogisticRegression(C=1)\n",
    "model_set = [rf, gbf, lr]\n",
    "\n",
    "filepath = join(getcwd(), 'models')\n",
    "print(filepath)\n",
    "for clf in model_set:\n",
    "    clf.fit(examples, targets)\n",
    "    model_name = f'{type(clf).__name__}.pkl'\n",
    "    joblib.dump(clf, join(filepath, model_name), compress=4)\n",
    "    "
   ]
  },
  {
   "cell_type": "code",
   "execution_count": null,
   "metadata": {},
   "outputs": [],
   "source": []
  }
 ],
 "metadata": {
  "kernelspec": {
   "display_name": "Python 3",
   "language": "python",
   "name": "python3"
  },
  "language_info": {
   "codemirror_mode": {
    "name": "ipython",
    "version": 3
   },
   "file_extension": ".py",
   "mimetype": "text/x-python",
   "name": "python",
   "nbconvert_exporter": "python",
   "pygments_lexer": "ipython3",
   "version": "3.6.7"
  }
 },
 "nbformat": 4,
 "nbformat_minor": 4
}
